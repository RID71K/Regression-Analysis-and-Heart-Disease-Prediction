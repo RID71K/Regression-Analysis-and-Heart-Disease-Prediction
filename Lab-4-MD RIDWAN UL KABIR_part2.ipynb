{
 "cells": [
  {
   "cell_type": "code",
   "execution_count": 1,
   "id": "f9bbffb1-cdf1-431f-8daa-cba4748204a2",
   "metadata": {},
   "outputs": [
    {
     "name": "stdout",
     "output_type": "stream",
     "text": [
      "Logistic Regression Performance:\n",
      "MSE: 0.21666666666666667, R^2: 0.09722222222222221\n",
      "\n",
      "Linear Regression Performance:\n",
      "MSE: 0.14355528488526348, R^2: 0.40185297964473554\n"
     ]
    }
   ],
   "source": [
    "import pandas as pd\n",
    "from sklearn.model_selection import train_test_split\n",
    "from sklearn.linear_model import LogisticRegression, LinearRegression\n",
    "from sklearn.metrics import mean_squared_error, r2_score\n",
    "from sklearn.feature_selection import RFE  \n",
    "\n",
    "file_path = '/Users/drmdshowkatkabir/Desktop/cps521/lab4/heart+disease/processed.cleveland.data'  \n",
    "column_names = [\"age\", \"sex\", \"cp\", \"trestbps\", \"chol\", \"fbs\", \"restecg\",\n",
    "                \"thalach\", \"exang\", \"oldpeak\", \"slope\", \"ca\", \"thal\", \"num\"]\n",
    "df = pd.read_csv(file_path, names=column_names, na_values=\"?\")\n",
    "\n",
    "df.dropna(inplace=True)\n",
    "df['num'] = df['num'].apply(lambda x: 1 if x > 0 else 0)\n",
    "\n",
    "X = df.drop('num', axis=1)\n",
    "y = df['num']\n",
    "\n",
    "\n",
    "X_train, X_test, y_train, y_test = train_test_split(X, y, test_size=0.2, random_state=42)\n",
    "\n",
    "log_reg = LogisticRegression(max_iter=1000)\n",
    "rfe = RFE(estimator=log_reg, n_features_to_select=5)  \n",
    "rfe.fit(X_train, y_train)\n",
    "X_train_rfe = rfe.transform(X_train)\n",
    "X_test_rfe = rfe.transform(X_test)\n",
    "\n",
    "log_reg.fit(X_train_rfe, y_train)\n",
    "y_pred_log = log_reg.predict(X_test_rfe)\n",
    "mse_log = mean_squared_error(y_test, y_pred_log)\n",
    "r2_log = r2_score(y_test, y_pred_log)\n",
    "print(\"Logistic Regression Performance:\")\n",
    "print(f\"MSE: {mse_log}, R^2: {r2_log}\")\n",
    "\n",
    "lin_reg = LinearRegression()\n",
    "lin_reg.fit(X_train_rfe, y_train)\n",
    "y_pred_lin = lin_reg.predict(X_test_rfe)\n",
    "mse_lin = mean_squared_error(y_test, y_pred_lin)\n",
    "r2_lin = r2_score(y_test, y_pred_lin)\n",
    "print(\"\\nLinear Regression Performance:\")\n",
    "print(f\"MSE: {mse_lin}, R^2: {r2_lin}\")\n",
    "print(\"Since Linear Regression model has a  lower mse and a higher r-squared value it is better\")"
   ]
  },
  {
   "cell_type": "code",
   "execution_count": null,
   "id": "a9d59855-96e8-4135-b6bf-680589032c84",
   "metadata": {},
   "outputs": [],
   "source": []
  }
 ],
 "metadata": {
  "kernelspec": {
   "display_name": "Python 3",
   "language": "python",
   "name": "python3"
  },
  "language_info": {
   "codemirror_mode": {
    "name": "ipython",
    "version": 3
   },
   "file_extension": ".py",
   "mimetype": "text/x-python",
   "name": "python",
   "nbconvert_exporter": "python",
   "pygments_lexer": "ipython3",
   "version": "3.8.8"
  }
 },
 "nbformat": 4,
 "nbformat_minor": 5
}
