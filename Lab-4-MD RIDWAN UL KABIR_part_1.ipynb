{
 "cells": [
  {
   "cell_type": "code",
   "execution_count": 1,
   "id": "d1371782-95d9-4739-9c6b-3303be9d2bb6",
   "metadata": {},
   "outputs": [
    {
     "name": "stdout",
     "output_type": "stream",
     "text": [
      "   Student  Xi  Yi\n",
      "0        1  95  85\n",
      "1        2  85  95\n",
      "2        3  80  70\n",
      "3        4  70  65\n",
      "4        5  60  70\n",
      "Linear Regression Equation: Statistics Grade = 0.64 * Test Score + 26.78\n",
      "Predicted Statistics Grade for a Test Score of 80: 78.29\n",
      "R-squared Value: 0.48\n"
     ]
    }
   ],
   "source": [
    "#EX1\n",
    "import pandas as pd\n",
    "from scipy import stats\n",
    "\n",
    "file_path = '/Users/drmdshowkatkabir/Desktop/cps521/student_score.csv'\n",
    "\n",
    "df = pd.read_csv(file_path)\n",
    "\n",
    "\n",
    "slope, intercept, r_value, p_value, std_err = stats.linregress(df['Xi'], df['Yi'])\n",
    "\n",
    "regression_eq = f\"Statistics Grade = {slope:.2f} * Test Score + {intercept:.2f}\"\n",
    "\n",
    "predicted_grade = slope * 80 + intercept\n",
    "\n",
    "r_squared = r_value ** 2\n",
    "\n",
    "print(f\"Linear Regression Equation: {regression_eq}\")\n",
    "print(f\"Predicted Statistics Grade for a Test Score of 80: {predicted_grade:.2f}\")\n",
    "print(f\"R-squared Value: {r_squared:.2f}\")\n",
    "\n",
    "#This value suggests that the linear regression model explains 48% of the variability in the statistics grades based on the test scores. While this indicates that there is some relationship between test scores and statistics grades, a significant portion of the variability in statistics grades is not explained by the model.\n"
   ]
  },
  {
   "cell_type": "code",
   "execution_count": null,
   "id": "1833b37e",
   "metadata": {},
   "outputs": [],
   "source": [
    "import pandas as pd\n",
    "from scipy import stats\n",
    "file_path = '/Users/drmdshowkatkabir/Desktop/cps521/student_score.csv'\n",
    "df=pd.read_csv()"
   ]
  },
  {
   "cell_type": "code",
   "execution_count": 4,
   "id": "afe11269",
   "metadata": {},
   "outputs": [
    {
     "ename": "AttributeError",
     "evalue": "module 'scipy.stats' has no attribute 'linregess'",
     "output_type": "error",
     "traceback": [
      "\u001b[0;31m---------------------------------------------------------------------------\u001b[0m",
      "\u001b[0;31mAttributeError\u001b[0m                            Traceback (most recent call last)",
      "\u001b[0;32m<ipython-input-4-9589914ca9af>\u001b[0m in \u001b[0;36m<module>\u001b[0;34m\u001b[0m\n\u001b[1;32m      3\u001b[0m \u001b[0mfile_path\u001b[0m \u001b[0;34m=\u001b[0m \u001b[0;34m'/Users/drmdshowkatkabir/Desktop/cps521/student_score.csv'\u001b[0m\u001b[0;34m\u001b[0m\u001b[0;34m\u001b[0m\u001b[0m\n\u001b[1;32m      4\u001b[0m \u001b[0mdp\u001b[0m\u001b[0;34m=\u001b[0m\u001b[0mpd\u001b[0m\u001b[0;34m.\u001b[0m\u001b[0mread_csv\u001b[0m\u001b[0;34m(\u001b[0m\u001b[0mfile_path\u001b[0m\u001b[0;34m)\u001b[0m\u001b[0;34m\u001b[0m\u001b[0;34m\u001b[0m\u001b[0m\n\u001b[0;32m----> 5\u001b[0;31m \u001b[0mslope\u001b[0m\u001b[0;34m,\u001b[0m\u001b[0minter\u001b[0m\u001b[0;34m,\u001b[0m\u001b[0mr\u001b[0m\u001b[0;34m,\u001b[0m\u001b[0mp\u001b[0m\u001b[0;34m,\u001b[0m\u001b[0mstd\u001b[0m\u001b[0;34m=\u001b[0m\u001b[0mstats\u001b[0m\u001b[0;34m.\u001b[0m\u001b[0mlinregess\u001b[0m\u001b[0;34m(\u001b[0m\u001b[0mdp\u001b[0m\u001b[0;34m[\u001b[0m\u001b[0;34m'Xi'\u001b[0m\u001b[0;34m]\u001b[0m\u001b[0;34m,\u001b[0m\u001b[0mdp\u001b[0m\u001b[0;34m[\u001b[0m\u001b[0;34m'Yi'\u001b[0m\u001b[0;34m]\u001b[0m\u001b[0;34m)\u001b[0m\u001b[0;34m\u001b[0m\u001b[0;34m\u001b[0m\u001b[0m\n\u001b[0m\u001b[1;32m      6\u001b[0m \u001b[0mpred\u001b[0m\u001b[0;34m=\u001b[0m\u001b[0mslope\u001b[0m\u001b[0;34m*\u001b[0m\u001b[0;36m80\u001b[0m \u001b[0;34m+\u001b[0m\u001b[0minter\u001b[0m\u001b[0;34m\u001b[0m\u001b[0;34m\u001b[0m\u001b[0m\n\u001b[1;32m      7\u001b[0m \u001b[0mprint\u001b[0m\u001b[0;34m(\u001b[0m\u001b[0mpred\u001b[0m\u001b[0;34m)\u001b[0m\u001b[0;34m\u001b[0m\u001b[0;34m\u001b[0m\u001b[0m\n",
      "\u001b[0;31mAttributeError\u001b[0m: module 'scipy.stats' has no attribute 'linregess'"
     ]
    }
   ],
   "source": [
    "import pandas as pd\n",
    "import scipy.stats\n",
    "file_path = '/Users/drmdshowkatkabir/Desktop/cps521/student_score.csv'\n",
    "dp=pd.read_csv(file_path)\n",
    "slope,inter,r,p,std=stats.linregess(dp['Xi'],dp['Yi'])\n",
    "pred=slope*80 +inter\n",
    "print(pred)\n",
    "print(r**2)\n",
    "\n"
   ]
  },
  {
   "cell_type": "code",
   "execution_count": 10,
   "id": "eab8fc28",
   "metadata": {},
   "outputs": [
    {
     "data": {
      "text/plain": [
       "[<matplotlib.lines.Line2D at 0x7fd070256370>]"
      ]
     },
     "execution_count": 10,
     "metadata": {},
     "output_type": "execute_result"
    },
    {
     "data": {
      "image/png": "[encoded data removed]",
      "text/plain": [
       "<Figure size 432x288 with 1 Axes>"
      ]
     },
     "metadata": {
      "needs_background": "light"
     },
     "output_type": "display_data"
    }
   ],
   "source": [
    "import matplotlib.pyplot as plt\n",
    "\n",
    "df = pd.read_csv('/Users/drmdshowkatkabir/Desktop/cps521/student_score.csv')\n",
    "\n",
    "slope,intercept,r,p,std=stats.linregress(df['Xi'],df['Yi'])\n",
    "eq=slope*df['Xi']+intercept\n",
    "plt.scatter(df['Xi'],df['Yi'])\n",
    "plt.plot(df['Xi'],eq)"
   ]
  },
  {
   "cell_type": "code",
   "execution_count": 13,
   "id": "94bdfa3a-3f7c-4b12-8f90-b5a2c39a0d5c",
   "metadata": {},
   "outputs": [
    {
     "data": {
      "image/png": "[encoded data removed]",
      "text/plain": [
       "<Figure size 432x288 with 1 Axes>"
      ]
     },
     "metadata": {
      "needs_background": "light"
     },
     "output_type": "display_data"
    }
   ],
   "source": [
    "#Ex2\n",
    "import pandas as pd\n",
    "from scipy import stats\n",
    "import matplotlib.pyplot as plt\n",
    "\n",
    "df = pd.read_csv('/Users/drmdshowkatkabir/Desktop/cps521/student_score.csv')\n",
    "\n",
    "slope, intercept, r_value, p_value, std_err = stats.linregress(df['Xi'], df['Yi'])\n",
    "\n",
    "plt.scatter(df['Xi'], df['Yi'], color='blue', label='Original Data')\n",
    "\n",
    "regression_line = slope * df['Xi'] + intercept\n",
    "\n",
    "plt.plot(df['Xi'], regression_line, color='red', label='Regression Line')\n",
    "\n",
    "plt.xlabel('Test Score')\n",
    "plt.ylabel('Statistics Grade')\n",
    "plt.title('Linear Regression Line for Test Score vs. Statistics Grade')\n",
    "plt.legend()\n",
    "\n",
    "plt.show()\n"
   ]
  },
  {
   "cell_type": "code",
   "execution_count": null,
   "id": "d636a4d6",
   "metadata": {},
   "outputs": [],
   "source": []
  },
  {
   "cell_type": "code",
   "execution_count": 14,
   "id": "de894af8-0e8b-4742-82fe-d5ee3a124ba1",
   "metadata": {},
   "outputs": [
    {
     "name": "stdout",
     "output_type": "stream",
     "text": [
      "R-squared Value: 0.48\n"
     ]
    }
   ],
   "source": [
    "#EX3\n",
    "import pandas as pd\n",
    "from scipy import stats\n",
    "\n",
    "df = pd.read_csv('/Users/drmdshowkatkabir/Desktop/cps521/student_score.csv')\n",
    "\n",
    "slope, intercept, r_value, p_value, std_err = stats.linregress(df['Xi'], df['Yi'])\n",
    "\n",
    "r_squared = r_value ** 2\n",
    "\n",
    "print(f\"R-squared Value: {r_squared:.2f}\")\n"
   ]
  },
  {
   "cell_type": "code",
   "execution_count": 12,
   "id": "3c19922c-354f-4460-b534-0f7f52c42e92",
   "metadata": {},
   "outputs": [
    {
     "data": {
      "image/png": "[encoded data removed]",
      "text/plain": [
       "<Figure size 432x288 with 1 Axes>"
      ]
     },
     "metadata": {
      "needs_background": "light"
     },
     "output_type": "display_data"
    }
   ],
   "source": [
    "#EX4\n",
    "#3.1\n",
    "import matplotlib.pyplot as plt\n",
    "\n",
    "X = [-4, -2, 1, 3, -1, -5, 4, 2, 0, -3, 5]\n",
    "Y = [16, 4, 1, 9, 1, 25, 16, 4, 0, 9, 25]\n",
    "\n",
    "plt.scatter(X, Y, color='blue')\n",
    "\n",
    "plt.xlabel('X')\n",
    "plt.ylabel('Y')\n",
    "plt.title('Scatter Plot of X vs. Y')\n",
    "\n",
    "plt.show()\n",
    "#3.2 s\n",
    "#Based on the scatter plot, the relationship between X and Y does not appear to be linear. The pattern suggests that as X increases or decreases from the center, Y increases in a non-linear fashion. This is indicative of a polynomial relationship, most likely quadratic, given that Y seems to increase as the square of X.\n",
    "\n",
    "#Therefore, the type of regression model that would likely be most appropriate for this data is a quadratic regression model. \n",
    "\n"
   ]
  },
  {
   "cell_type": "code",
   "execution_count": 14,
   "id": "3e7c2c07",
   "metadata": {},
   "outputs": [
    {
     "data": {
      "text/plain": [
       "<matplotlib.collections.PathCollection at 0x7fd083dd8b50>"
      ]
     },
     "execution_count": 14,
     "metadata": {},
     "output_type": "execute_result"
    },
    {
     "data": {
      "image/png": "[encoded data removed]",
      "text/plain": [
       "<Figure size 432x288 with 1 Axes>"
      ]
     },
     "metadata": {
      "needs_background": "light"
     },
     "output_type": "display_data"
    }
   ],
   "source": [
    "import matplotlib.pyplot as plt\n",
    "\n",
    "X = [-4, -2, 1, 3, -1, -5, 4, 2, 0, -3, 5]\n",
    "Y = [16, 4, 1, 9, 1, 25, 16, 4, 0, 9, 25]\n",
    "plt.scatter(X,Y)\n"
   ]
  },
  {
   "cell_type": "code",
   "execution_count": null,
   "id": "47d3f328-5d66-42a3-9492-a7a387470ecc",
   "metadata": {},
   "outputs": [],
   "source": []
  }
 ],
 "metadata": {
  "kernelspec": {
   "display_name": "Python 3",
   "language": "python",
   "name": "python3"
  },
  "language_info": {
   "codemirror_mode": {
    "name": "ipython",
    "version": 3
   },
   "file_extension": ".py",
   "mimetype": "text/x-python",
   "name": "python",
   "nbconvert_exporter": "python",
   "pygments_lexer": "ipython3",
   "version": "3.8.8"
  }
 },
 "nbformat": 4,
 "nbformat_minor": 5
}
